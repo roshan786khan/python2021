{
  "nbformat": 4,
  "nbformat_minor": 0,
  "metadata": {
    "colab": {
      "name": "Untitled0.ipynb",
      "provenance": [],
      "authorship_tag": "ABX9TyMDtdphLHY+ziBFiwFKd0fT",
      "include_colab_link": true
    },
    "kernelspec": {
      "name": "python3",
      "display_name": "Python 3"
    }
  },
  "cells": [
    {
      "cell_type": "markdown",
      "metadata": {
        "id": "view-in-github",
        "colab_type": "text"
      },
      "source": [
        "<a href=\"https://colab.research.google.com/github/roshan786khan/python2021/blob/main/simple.ipynb\" target=\"_parent\"><img src=\"https://colab.research.google.com/assets/colab-badge.svg\" alt=\"Open In Colab\"/></a>"
      ]
    },
    {
      "cell_type": "code",
      "metadata": {
        "colab": {
          "base_uri": "https://localhost:8080/"
        },
        "id": "6KICwwfmd9Ej",
        "outputId": "143b70cf-0f46-4d1e-f9aa-cfd2fad396c5"
      },
      "source": [
        "a=input(\"Enter your name\")\r\n",
        "b=input(\"Enter your age\")\r\n",
        "c=input(\"Enter your address\")\r\n",
        "print(\"Name: \",a,\"Age: \",b,\"Address: \",c)"
      ],
      "execution_count": 1,
      "outputs": [
        {
          "output_type": "stream",
          "text": [
            "Enter your nameRoshan Khan\n",
            "Enter your age21\n",
            "Enter your addressgunupur\n",
            "Name:  Roshan Khan Age:  21 Address:  gunupur\n"
          ],
          "name": "stdout"
        }
      ]
    },
    {
      "cell_type": "code",
      "metadata": {
        "id": "PULv9_dwgTTK"
      },
      "source": [
        "a=int(input(\"Enter math marks:\"))"
      ],
      "execution_count": null,
      "outputs": []
    }
  ]
}