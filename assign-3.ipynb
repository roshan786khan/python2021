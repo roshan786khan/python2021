{
  "nbformat": 4,
  "nbformat_minor": 0,
  "metadata": {
    "colab": {
      "name": "Untitled2.ipynb",
      "provenance": [],
      "authorship_tag": "ABX9TyPbVhqMLru3fNj+78p/RNEl",
      "include_colab_link": true
    },
    "kernelspec": {
      "name": "python3",
      "display_name": "Python 3"
    },
    "language_info": {
      "name": "python"
    }
  },
  "cells": [
    {
      "cell_type": "markdown",
      "metadata": {
        "id": "view-in-github",
        "colab_type": "text"
      },
      "source": [
        "<a href=\"https://colab.research.google.com/github/roshan786khan/python2021/blob/main/assign-3.ipynb\" target=\"_parent\"><img src=\"https://colab.research.google.com/assets/colab-badge.svg\" alt=\"Open In Colab\"/></a>"
      ]
    },
    {
      "cell_type": "markdown",
      "metadata": {
        "id": "AVZDDGxslfe4"
      },
      "source": [
        "Create a list with tuples inside it (series) calculate the sum of elements intuple and store the sum of tuples in second list"
      ]
    },
    {
      "cell_type": "code",
      "metadata": {
        "colab": {
          "base_uri": "https://localhost:8080/"
        },
        "id": "ojAfZB_OYTNP",
        "outputId": "3548e122-edc4-466d-daf5-e29b7d3a40e0"
      },
      "source": [
        "def test(lst):\n",
        "    result =  map(sum, lst)\n",
        "    return list(result)\n",
        "nums = [(1,2,3), (4,5,6), (7,8,9), (10,11,12,13)]\n",
        "print(\"\\nOriginal list of tuples:\")\n",
        "print(nums)\n",
        "print(\"\\nSum of all the elements of each tuple stored inside the said list of tuples:\")\n",
        "print(test(nums))\n",
        "\n"
      ],
      "execution_count": 21,
      "outputs": [
        {
          "output_type": "stream",
          "text": [
            "\n",
            "Original list of tuples:\n",
            "[(1, 2, 3), (4, 5, 6), (7, 8, 9), (10, 11, 12, 13)]\n",
            "\n",
            "Sum of all the elements of each tuple stored inside the said list of tuples:\n",
            "[6, 15, 24, 46]\n"
          ],
          "name": "stdout"
        }
      ]
    },
    {
      "cell_type": "markdown",
      "metadata": {
        "id": "J7vi6U9flTtJ"
      },
      "source": [
        "wap to create a list and input numbers into it then remove the repeated elements from it and display it back"
      ]
    },
    {
      "cell_type": "code",
      "metadata": {
        "colab": {
          "base_uri": "https://localhost:8080/"
        },
        "id": "cZTJLxMlhiJW",
        "outputId": "dbde23ce-2705-48dc-9b8b-6c0253a262ff"
      },
      "source": [
        "l1 = []\n",
        "a=int(input(\"Enter total  elements insert:\"))\n",
        "for i in range(a):\n",
        "  b=int(input(\"Enter the element\"))\n",
        "  l1.append(b)\n",
        "print(my_list)\n",
        "l2 = []\n",
        "for i in my_list:\n",
        "    if i not in l2:\n",
        "      l2.append(i)\n",
        "print(list(l2))"
      ],
      "execution_count": 30,
      "outputs": [
        {
          "output_type": "stream",
          "text": [
            "Enter total  elements insert:6\n",
            "Enter the element1\n",
            "Enter the element1\n",
            "Enter the element2\n",
            "Enter the element2\n",
            "Enter the element5\n",
            "Enter the element5\n",
            "[5, 5, 1, 1, 2, 2]\n",
            "[5, 1, 2]\n"
          ],
          "name": "stdout"
        }
      ]
    }
  ]
}