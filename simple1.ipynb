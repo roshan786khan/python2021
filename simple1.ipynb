{
  "nbformat": 4,
  "nbformat_minor": 0,
  "metadata": {
    "colab": {
      "name": "Untitled0.ipynb",
      "provenance": [],
      "authorship_tag": "ABX9TyMnI7c4FSp2NNeIC4nLBWuo",
      "include_colab_link": true
    },
    "kernelspec": {
      "name": "python3",
      "display_name": "Python 3"
    }
  },
  "cells": [
    {
      "cell_type": "markdown",
      "metadata": {
        "id": "view-in-github",
        "colab_type": "text"
      },
      "source": [
        "<a href=\"https://colab.research.google.com/github/roshan786khan/python2021/blob/main/simple1.ipynb\" target=\"_parent\"><img src=\"https://colab.research.google.com/assets/colab-badge.svg\" alt=\"Open In Colab\"/></a>"
      ]
    },
    {
      "cell_type": "code",
      "metadata": {
        "colab": {
          "base_uri": "https://localhost:8080/"
        },
        "id": "6KICwwfmd9Ej",
        "outputId": "f944cb44-dc76-46d6-e0ca-9af6be07aa40"
      },
      "source": [
        "a=input(\"Enter your name\")\r\n",
        "b=input(\"Enter your age\")\r\n",
        "c=input(\"Enter your address\")\r\n",
        "print(\"Name: \",a,\"Age: \",b,\"Address: \",c)"
      ],
      "execution_count": 1,
      "outputs": [
        {
          "output_type": "stream",
          "text": [
            "Enter your nameroshan khan\n",
            "Enter your age21\n",
            "Enter your addressGunupur\n",
            "Name:  roshan khan Age:  21 Address:  Gunupur\n"
          ],
          "name": "stdout"
        }
      ]
    },
    {
      "cell_type": "code",
      "metadata": {
        "id": "PULv9_dwgTTK",
        "outputId": "ce0d5907-77c8-4a51-df36-22949a963030",
        "colab": {
          "base_uri": "https://localhost:8080/"
        }
      },
      "source": [
        "a=int(input(\"Enter math marks:\"))\r\n",
        "b=int(input(\"Enter Daa marks:\"))\r\n",
        "c=int(input(\"Enter python marks:\"))\r\n",
        "d=int(input(\"Enter your full marks:\"))\r\n",
        "e=a+b+c\r\n",
        "f=(e/d)*100\r\n",
        "print(\"The sum o marks is: \",e,\"prcentage is: \",f)"
      ],
      "execution_count": 3,
      "outputs": [
        {
          "output_type": "stream",
          "text": [
            "Enter math marks:45\n",
            "Enter Daa marks:78\n",
            "Enter python marks:89\n",
            "Enter your full marks:300\n",
            "The sum o marks is:  212 prcentage is:  70.66666666666667\n"
          ],
          "name": "stdout"
        }
      ]
    },
    {
      "cell_type": "code",
      "metadata": {
        "id": "1gV_XAAVms1I",
        "outputId": "0e7d3309-b772-4049-e806-3e52048a2eab",
        "colab": {
          "base_uri": "https://localhost:8080/"
        }
      },
      "source": [
        "a=float(input(\"Enter circle radius\"))\r\n",
        "b=3.14*a*a\r\n",
        "print(\"Area of circle is: \",b)\r\n"
      ],
      "execution_count": 4,
      "outputs": [
        {
          "output_type": "stream",
          "text": [
            "Enter circle radius7\n",
            "Area of circle is:  153.86\n"
          ],
          "name": "stdout"
        }
      ]
    },
    {
      "cell_type": "code",
      "metadata": {
        "id": "NbJLeh8rnTbk",
        "outputId": "2083716c-0a9a-4757-f904-b3f0864f456f",
        "colab": {
          "base_uri": "https://localhost:8080/"
        }
      },
      "source": [
        "a=int(input(\"Enter side a of triangle:\"))\r\n",
        "b=int(input(\"Enter side b of triangle:\"))\r\n",
        "c=int(input(\"Enter side c of triangle:\"))\r\n",
        "p=a+b+c\r\n",
        "s=int((a+b+c)/2)\r\n",
        "ar=(s*(s-a)*(s-b)*(s-c))**0.5\r\n",
        "print(\"Area of triangle is: \", ar, \"perimeter of triangle is: \",p)\r\n"
      ],
      "execution_count": 11,
      "outputs": [
        {
          "output_type": "stream",
          "text": [
            "Enter side a of triangle:5\n",
            "Enter side b of triangle:4\n",
            "Enter side c of triangle:3\n",
            "Area of triangle is:  6.0 perimeter of triangle is:  12\n"
          ],
          "name": "stdout"
        }
      ]
    },
    {
      "cell_type": "code",
      "metadata": {
        "id": "BzGIpaT2qfy0",
        "outputId": "5afb0732-49df-437a-8fcc-bf42263d7fb4",
        "colab": {
          "base_uri": "https://localhost:8080/"
        }
      },
      "source": [
        "a=int(input(\"Enter rduis of sphere:\"))\r\n",
        "v=(4/3)*3.14*a*a*a\r\n",
        "print(\"Volume of sphere is: \",v)"
      ],
      "execution_count": 13,
      "outputs": [
        {
          "output_type": "stream",
          "text": [
            "Enter rduis of sphere:22\n",
            "Volume of sphere is:  44579.62666666667\n"
          ],
          "name": "stdout"
        }
      ]
    },
    {
      "cell_type": "code",
      "metadata": {
        "id": "tvR9XAyCrHqQ",
        "outputId": "c355deee-0e1f-454d-ff29-08d33a266f8a",
        "colab": {
          "base_uri": "https://localhost:8080/"
        }
      },
      "source": [
        "a=[\"apple\",\"mango\",\"orange\",\"guava\",\"banana\"]\r\n",
        "print(a)\r\n"
      ],
      "execution_count": 17,
      "outputs": [
        {
          "output_type": "stream",
          "text": [
            "['apple', 'mango', 'orange', 'guava', 'banana']\n"
          ],
          "name": "stdout"
        }
      ]
    },
    {
      "cell_type": "code",
      "metadata": {
        "id": "kh_qrNJOsKC1",
        "outputId": "331fa67c-e125-4e0e-836f-9b58ee913e72",
        "colab": {
          "base_uri": "https://localhost:8080/"
        }
      },
      "source": [
        "a=input(\"Enter a string:\")\r\n",
        "b=a[::-1]\r\n",
        "print(b)"
      ],
      "execution_count": 21,
      "outputs": [
        {
          "output_type": "stream",
          "text": [
            "Enter a string:roshan\n",
            "nahsor\n"
          ],
          "name": "stdout"
        }
      ]
    }
  ]
}