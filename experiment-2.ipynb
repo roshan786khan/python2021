{
  "nbformat": 4,
  "nbformat_minor": 0,
  "metadata": {
    "colab": {
      "name": "Untitled1.ipynb",
      "provenance": [],
      "collapsed_sections": [],
      "authorship_tag": "ABX9TyPMkT3DGFIkQEnArjpe5GHT",
      "include_colab_link": true
    },
    "kernelspec": {
      "name": "python3",
      "display_name": "Python 3"
    }
  },
  "cells": [
    {
      "cell_type": "markdown",
      "metadata": {
        "id": "view-in-github",
        "colab_type": "text"
      },
      "source": [
        "<a href=\"https://colab.research.google.com/github/roshan786khan/python2021/blob/main/experiment-2.ipynb\" target=\"_parent\"><img src=\"https://colab.research.google.com/assets/colab-badge.svg\" alt=\"Open In Colab\"/></a>"
      ]
    },
    {
      "cell_type": "code",
      "metadata": {
        "colab": {
          "base_uri": "https://localhost:8080/"
        },
        "id": "axpIOTrRfObl",
        "outputId": "021003dd-f851-4075-86f7-173cc9eefb99"
      },
      "source": [
        "p=float(input(\"Enter principle\"))\r\n",
        "r=float(input(\"Enter rate\"))\r\n",
        "t=float(input(\"Enter time\"))\r\n",
        "si=p*t*r/100\r\n",
        "a=p*((1+r/100)**t)\r\n",
        "ci=a-p\r\n",
        "print(\"simple interest is:\",si,\"compound interest is:\",ci)"
      ],
      "execution_count": 8,
      "outputs": [
        {
          "output_type": "stream",
          "text": [
            "Enter principle2\n",
            "Enter rate3\n",
            "Enter time4\n",
            "simple interest is: 0.24 compound interest is: 0.2510176200000003\n"
          ],
          "name": "stdout"
        }
      ]
    },
    {
      "cell_type": "code",
      "metadata": {
        "colab": {
          "base_uri": "https://localhost:8080/"
        },
        "id": "mf1pTD_KjWGI",
        "outputId": "ce09d5c8-809f-41fd-c72a-3b66538d83d2"
      },
      "source": [
        "a=input(\"Enter first name:\")\r\n",
        "b=input(\"Enter mid name:\")\r\n",
        "c=input(\"Enter last name:\")\r\n",
        "d=a+\" \"+b+\" \"+c\r\n",
        "print(d)"
      ],
      "execution_count": 11,
      "outputs": [
        {
          "output_type": "stream",
          "text": [
            "Enter first name:ram\n",
            "Enter mid name:shanker\n",
            "Enter last name:pradhan\n",
            "ram shanker pradhan\n"
          ],
          "name": "stdout"
        }
      ]
    },
    {
      "cell_type": "code",
      "metadata": {
        "colab": {
          "base_uri": "https://localhost:8080/"
        },
        "id": "E09wakEtk31K",
        "outputId": "80dbf516-bf71-4a62-929d-ac0fc7368167"
      },
      "source": [
        "a=[[1,3,2,4],[5,6,7,8],[9,10,11,12]]\r\n",
        "print(a)"
      ],
      "execution_count": 12,
      "outputs": [
        {
          "output_type": "stream",
          "text": [
            "[[1, 3, 2, 4], [5, 6, 7, 8], [9, 10, 11, 12]]\n"
          ],
          "name": "stdout"
        }
      ]
    },
    {
      "cell_type": "code",
      "metadata": {
        "colab": {
          "base_uri": "https://localhost:8080/"
        },
        "id": "fD6szvnMoLdJ",
        "outputId": "17a514ce-95ff-4e1f-9e5e-f0031d3f884a"
      },
      "source": [
        "num_int = 123\r\n",
        "num_str = \"456\"\r\n",
        "num_float= 7.02\r\n",
        "print(\"Data type of num_int:\",type(num_int))\r\n",
        "print(\"Data type of num_str before Type Casting:\",type(num_str))\r\n",
        "num_str = int(num_str)\r\n",
        "print(\"Data type of num_str after Type Casting:\",type(num_str))\r\n",
        "num_sum = num_int + num_str\r\n",
        "print(\"Sum of num_int and num_str:\",num_sum)\r\n",
        "print(\"Data type of the sum:\",type(num_sum))\r\n",
        "num_sum1=num_int+num_float\r\n",
        "print(\"Sum of num_int and num_float:\",num_sum1)\r\n",
        "\r\n",
        "\r\n",
        "\r\n"
      ],
      "execution_count": 15,
      "outputs": [
        {
          "output_type": "stream",
          "text": [
            "Data type of num_int: <class 'int'>\n",
            "Data type of num_str before Type Casting: <class 'str'>\n",
            "Data type of num_str after Type Casting: <class 'int'>\n",
            "Sum of num_int and num_str: 579\n",
            "Data type of the sum: <class 'int'>\n",
            "Sum of num_int and num_float: 130.02\n"
          ],
          "name": "stdout"
        }
      ]
    },
    {
      "cell_type": "code",
      "metadata": {
        "colab": {
          "base_uri": "https://localhost:8080/"
        },
        "id": "QvtMD727rtYG",
        "outputId": "9eefed82-afa5-4ab3-cfff-b890bbb3b326"
      },
      "source": [
        "import math\r\n",
        "x1=int(input(\"Enter x1:\"))\r\n",
        "x2=int(input(\"Enter x2:\"))\r\n",
        "y1=int(input(\"Enter y1:\"))\r\n",
        "y2=int(input(\"Enter y2:\"))\r\n",
        "d=math.sqrt((x2-x1)**2+(y2-y1)**2)\r\n",
        "print(\"The distance betweeen 2 points is:\",d)"
      ],
      "execution_count": 22,
      "outputs": [
        {
          "output_type": "stream",
          "text": [
            "Enter x1:5\n",
            "Enter x2:45\n",
            "Enter y1:12\n",
            "Enter y2:45\n",
            "The distance betweeen 2 points is: 51.85556864985669\n"
          ],
          "name": "stdout"
        }
      ]
    }
  ]
}